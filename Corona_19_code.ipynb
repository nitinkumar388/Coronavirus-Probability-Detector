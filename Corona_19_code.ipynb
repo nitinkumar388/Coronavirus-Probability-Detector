{
  "nbformat": 4,
  "nbformat_minor": 0,
  "metadata": {
    "colab": {
      "name": "Corona-19-code.ipynb",
      "provenance": [],
      "collapsed_sections": []
    },
    "kernelspec": {
      "name": "python3",
      "display_name": "Python 3"
    },
    "language_info": {
      "name": "python"
    }
  },
  "cells": [
    {
      "cell_type": "code",
      "metadata": {
        "id": "ecZE89cYoec2"
      },
      "source": [
        "import numpy as np\n",
        "import pandas as pd\n",
        "import matplotlib.pyplot as plt\n"
      ],
      "execution_count": 20,
      "outputs": []
    },
    {
      "cell_type": "code",
      "metadata": {
        "id": "-Rr8AoU7ovEg"
      },
      "source": [
        "df = pd.read_csv('/content/data.csv')"
      ],
      "execution_count": 21,
      "outputs": []
    },
    {
      "cell_type": "code",
      "metadata": {
        "colab": {
          "base_uri": "https://localhost:8080/",
          "height": 203
        },
        "id": "rYKFlHBfozOh",
        "outputId": "6c1fb54b-c7d4-4da5-864c-d23793a2b024"
      },
      "source": [
        "df.head()"
      ],
      "execution_count": 22,
      "outputs": [
        {
          "output_type": "execute_result",
          "data": {
            "text/html": [
              "<div>\n",
              "<style scoped>\n",
              "    .dataframe tbody tr th:only-of-type {\n",
              "        vertical-align: middle;\n",
              "    }\n",
              "\n",
              "    .dataframe tbody tr th {\n",
              "        vertical-align: top;\n",
              "    }\n",
              "\n",
              "    .dataframe thead th {\n",
              "        text-align: right;\n",
              "    }\n",
              "</style>\n",
              "<table border=\"1\" class=\"dataframe\">\n",
              "  <thead>\n",
              "    <tr style=\"text-align: right;\">\n",
              "      <th></th>\n",
              "      <th>fever</th>\n",
              "      <th>bodyPain</th>\n",
              "      <th>age</th>\n",
              "      <th>runnyNose</th>\n",
              "      <th>diffBreath</th>\n",
              "      <th>infectionProb</th>\n",
              "    </tr>\n",
              "  </thead>\n",
              "  <tbody>\n",
              "    <tr>\n",
              "      <th>0</th>\n",
              "      <td>98.332734</td>\n",
              "      <td>0</td>\n",
              "      <td>36</td>\n",
              "      <td>1</td>\n",
              "      <td>-1</td>\n",
              "      <td>0</td>\n",
              "    </tr>\n",
              "    <tr>\n",
              "      <th>1</th>\n",
              "      <td>101.488868</td>\n",
              "      <td>1</td>\n",
              "      <td>88</td>\n",
              "      <td>0</td>\n",
              "      <td>0</td>\n",
              "      <td>1</td>\n",
              "    </tr>\n",
              "    <tr>\n",
              "      <th>2</th>\n",
              "      <td>98.295029</td>\n",
              "      <td>1</td>\n",
              "      <td>71</td>\n",
              "      <td>1</td>\n",
              "      <td>-1</td>\n",
              "      <td>1</td>\n",
              "    </tr>\n",
              "    <tr>\n",
              "      <th>3</th>\n",
              "      <td>99.440096</td>\n",
              "      <td>1</td>\n",
              "      <td>80</td>\n",
              "      <td>0</td>\n",
              "      <td>1</td>\n",
              "      <td>0</td>\n",
              "    </tr>\n",
              "    <tr>\n",
              "      <th>4</th>\n",
              "      <td>98.917922</td>\n",
              "      <td>1</td>\n",
              "      <td>6</td>\n",
              "      <td>1</td>\n",
              "      <td>1</td>\n",
              "      <td>0</td>\n",
              "    </tr>\n",
              "  </tbody>\n",
              "</table>\n",
              "</div>"
            ],
            "text/plain": [
              "        fever  bodyPain  age  runnyNose  diffBreath  infectionProb\n",
              "0   98.332734         0   36          1          -1              0\n",
              "1  101.488868         1   88          0           0              1\n",
              "2   98.295029         1   71          1          -1              1\n",
              "3   99.440096         1   80          0           1              0\n",
              "4   98.917922         1    6          1           1              0"
            ]
          },
          "metadata": {
            "tags": []
          },
          "execution_count": 22
        }
      ]
    },
    {
      "cell_type": "code",
      "metadata": {
        "colab": {
          "base_uri": "https://localhost:8080/"
        },
        "id": "FqKGs57co1BI",
        "outputId": "b9185c26-ab36-4bac-b738-ed08691af87e"
      },
      "source": [
        "type(df)"
      ],
      "execution_count": 23,
      "outputs": [
        {
          "output_type": "execute_result",
          "data": {
            "text/plain": [
              "pandas.core.frame.DataFrame"
            ]
          },
          "metadata": {
            "tags": []
          },
          "execution_count": 23
        }
      ]
    },
    {
      "cell_type": "code",
      "metadata": {
        "colab": {
          "base_uri": "https://localhost:8080/"
        },
        "id": "vx-Rv1dIqlHy",
        "outputId": "9fe0b0d6-7999-452f-a18f-9442bb5472b9"
      },
      "source": [
        "df.shape"
      ],
      "execution_count": 24,
      "outputs": [
        {
          "output_type": "execute_result",
          "data": {
            "text/plain": [
              "(2575, 6)"
            ]
          },
          "metadata": {
            "tags": []
          },
          "execution_count": 24
        }
      ]
    },
    {
      "cell_type": "code",
      "metadata": {
        "colab": {
          "base_uri": "https://localhost:8080/"
        },
        "id": "mZ6uGfIao3Ok",
        "outputId": "09731022-941a-494c-87ea-d5722053e2be"
      },
      "source": [
        "df.info()"
      ],
      "execution_count": 25,
      "outputs": [
        {
          "output_type": "stream",
          "text": [
            "<class 'pandas.core.frame.DataFrame'>\n",
            "RangeIndex: 2575 entries, 0 to 2574\n",
            "Data columns (total 6 columns):\n",
            " #   Column         Non-Null Count  Dtype  \n",
            "---  ------         --------------  -----  \n",
            " 0   fever          2575 non-null   float64\n",
            " 1   bodyPain       2575 non-null   int64  \n",
            " 2   age            2575 non-null   int64  \n",
            " 3   runnyNose      2575 non-null   int64  \n",
            " 4   diffBreath     2575 non-null   int64  \n",
            " 5   infectionProb  2575 non-null   int64  \n",
            "dtypes: float64(1), int64(5)\n",
            "memory usage: 120.8 KB\n"
          ],
          "name": "stdout"
        }
      ]
    },
    {
      "cell_type": "code",
      "metadata": {
        "colab": {
          "base_uri": "https://localhost:8080/",
          "height": 295
        },
        "id": "EtoQm4ZspqD9",
        "outputId": "be29c097-e23d-4df0-ffb6-8b4da85a79ea"
      },
      "source": [
        "df.describe()"
      ],
      "execution_count": 26,
      "outputs": [
        {
          "output_type": "execute_result",
          "data": {
            "text/html": [
              "<div>\n",
              "<style scoped>\n",
              "    .dataframe tbody tr th:only-of-type {\n",
              "        vertical-align: middle;\n",
              "    }\n",
              "\n",
              "    .dataframe tbody tr th {\n",
              "        vertical-align: top;\n",
              "    }\n",
              "\n",
              "    .dataframe thead th {\n",
              "        text-align: right;\n",
              "    }\n",
              "</style>\n",
              "<table border=\"1\" class=\"dataframe\">\n",
              "  <thead>\n",
              "    <tr style=\"text-align: right;\">\n",
              "      <th></th>\n",
              "      <th>fever</th>\n",
              "      <th>bodyPain</th>\n",
              "      <th>age</th>\n",
              "      <th>runnyNose</th>\n",
              "      <th>diffBreath</th>\n",
              "      <th>infectionProb</th>\n",
              "    </tr>\n",
              "  </thead>\n",
              "  <tbody>\n",
              "    <tr>\n",
              "      <th>count</th>\n",
              "      <td>2575.000000</td>\n",
              "      <td>2575.000000</td>\n",
              "      <td>2575.000000</td>\n",
              "      <td>2575.000000</td>\n",
              "      <td>2575.000000</td>\n",
              "      <td>2575.000000</td>\n",
              "    </tr>\n",
              "    <tr>\n",
              "      <th>mean</th>\n",
              "      <td>100.022494</td>\n",
              "      <td>0.493981</td>\n",
              "      <td>50.023301</td>\n",
              "      <td>0.491262</td>\n",
              "      <td>-0.006214</td>\n",
              "      <td>0.514175</td>\n",
              "    </tr>\n",
              "    <tr>\n",
              "      <th>std</th>\n",
              "      <td>1.169163</td>\n",
              "      <td>0.500061</td>\n",
              "      <td>28.635022</td>\n",
              "      <td>0.500021</td>\n",
              "      <td>0.810264</td>\n",
              "      <td>0.499896</td>\n",
              "    </tr>\n",
              "    <tr>\n",
              "      <th>min</th>\n",
              "      <td>98.000537</td>\n",
              "      <td>0.000000</td>\n",
              "      <td>1.000000</td>\n",
              "      <td>0.000000</td>\n",
              "      <td>-1.000000</td>\n",
              "      <td>0.000000</td>\n",
              "    </tr>\n",
              "    <tr>\n",
              "      <th>25%</th>\n",
              "      <td>98.979986</td>\n",
              "      <td>0.000000</td>\n",
              "      <td>26.000000</td>\n",
              "      <td>0.000000</td>\n",
              "      <td>-1.000000</td>\n",
              "      <td>0.000000</td>\n",
              "    </tr>\n",
              "    <tr>\n",
              "      <th>50%</th>\n",
              "      <td>100.031807</td>\n",
              "      <td>0.000000</td>\n",
              "      <td>50.000000</td>\n",
              "      <td>0.000000</td>\n",
              "      <td>0.000000</td>\n",
              "      <td>1.000000</td>\n",
              "    </tr>\n",
              "    <tr>\n",
              "      <th>75%</th>\n",
              "      <td>101.045854</td>\n",
              "      <td>1.000000</td>\n",
              "      <td>75.000000</td>\n",
              "      <td>1.000000</td>\n",
              "      <td>1.000000</td>\n",
              "      <td>1.000000</td>\n",
              "    </tr>\n",
              "    <tr>\n",
              "      <th>max</th>\n",
              "      <td>101.997330</td>\n",
              "      <td>1.000000</td>\n",
              "      <td>100.000000</td>\n",
              "      <td>1.000000</td>\n",
              "      <td>1.000000</td>\n",
              "      <td>1.000000</td>\n",
              "    </tr>\n",
              "  </tbody>\n",
              "</table>\n",
              "</div>"
            ],
            "text/plain": [
              "             fever     bodyPain  ...   diffBreath  infectionProb\n",
              "count  2575.000000  2575.000000  ...  2575.000000    2575.000000\n",
              "mean    100.022494     0.493981  ...    -0.006214       0.514175\n",
              "std       1.169163     0.500061  ...     0.810264       0.499896\n",
              "min      98.000537     0.000000  ...    -1.000000       0.000000\n",
              "25%      98.979986     0.000000  ...    -1.000000       0.000000\n",
              "50%     100.031807     0.000000  ...     0.000000       1.000000\n",
              "75%     101.045854     1.000000  ...     1.000000       1.000000\n",
              "max     101.997330     1.000000  ...     1.000000       1.000000\n",
              "\n",
              "[8 rows x 6 columns]"
            ]
          },
          "metadata": {
            "tags": []
          },
          "execution_count": 26
        }
      ]
    },
    {
      "cell_type": "code",
      "metadata": {
        "colab": {
          "base_uri": "https://localhost:8080/"
        },
        "id": "n6LOUBQ7psp3",
        "outputId": "61e1664c-a6ef-4240-d414-517adaf69b08"
      },
      "source": [
        "df.isnull().sum()"
      ],
      "execution_count": 27,
      "outputs": [
        {
          "output_type": "execute_result",
          "data": {
            "text/plain": [
              "fever            0\n",
              "bodyPain         0\n",
              "age              0\n",
              "runnyNose        0\n",
              "diffBreath       0\n",
              "infectionProb    0\n",
              "dtype: int64"
            ]
          },
          "metadata": {
            "tags": []
          },
          "execution_count": 27
        }
      ]
    },
    {
      "cell_type": "markdown",
      "metadata": {
        "id": "4Df9z7-ppxIW"
      },
      "source": [
        "Train Test Splitting"
      ]
    },
    {
      "cell_type": "code",
      "metadata": {
        "id": "hwD0hk1ypuXI"
      },
      "source": [
        "def train_test_split(data, ratio):\n",
        "  np.random.seed(56)\n",
        "  shuffled = np.random.permutation(len(data))\n",
        "  test_set_size = int(len(data)*ratio)\n",
        "  test_indices = shuffled[:test_set_size]\n",
        "  train_indices = shuffled[test_set_size:]\n",
        "  return data.iloc[train_indices], data.iloc[test_indices]"
      ],
      "execution_count": 28,
      "outputs": []
    },
    {
      "cell_type": "code",
      "metadata": {
        "id": "2vzB5LNKqXuv"
      },
      "source": [
        "train, test = train_test_split(df, 0.2)"
      ],
      "execution_count": 29,
      "outputs": []
    },
    {
      "cell_type": "code",
      "metadata": {
        "colab": {
          "base_uri": "https://localhost:8080/"
        },
        "id": "81QI9H9gqe7j",
        "outputId": "a822d8b6-7d3d-4551-cf16-2e9a146d65c6"
      },
      "source": [
        "train.shape, test.shape"
      ],
      "execution_count": 30,
      "outputs": [
        {
          "output_type": "execute_result",
          "data": {
            "text/plain": [
              "((2060, 6), (515, 6))"
            ]
          },
          "metadata": {
            "tags": []
          },
          "execution_count": 30
        }
      ]
    },
    {
      "cell_type": "code",
      "metadata": {
        "id": "ffvPMFBDqhdy"
      },
      "source": [
        "x_train = train[['fever','bodyPain','age','runnyNose','diffBreath']].to_numpy()\n",
        "x_test = test[['fever','bodyPain','age','runnyNose','diffBreath']].to_numpy()"
      ],
      "execution_count": 33,
      "outputs": []
    },
    {
      "cell_type": "code",
      "metadata": {
        "id": "ji-FFsrzrvas"
      },
      "source": [
        "y_train = train[['infectionProb']].to_numpy().reshape(2060,)\n",
        "y_test = test[['infectionProb']].to_numpy().reshape(515,)\n"
      ],
      "execution_count": 35,
      "outputs": []
    },
    {
      "cell_type": "code",
      "metadata": {
        "colab": {
          "base_uri": "https://localhost:8080/"
        },
        "id": "cHGgrrZrsEPI",
        "outputId": "9d1f28e2-de74-4534-f330-c858a9bcb8a6"
      },
      "source": [
        "x_train.shape, y_train.shape"
      ],
      "execution_count": 36,
      "outputs": [
        {
          "output_type": "execute_result",
          "data": {
            "text/plain": [
              "((2060, 5), (2060,))"
            ]
          },
          "metadata": {
            "tags": []
          },
          "execution_count": 36
        }
      ]
    },
    {
      "cell_type": "code",
      "metadata": {
        "colab": {
          "base_uri": "https://localhost:8080/"
        },
        "id": "3Ru-QYcosJX8",
        "outputId": "afc78e98-53a3-4b6d-eefe-057b9fe0e04f"
      },
      "source": [
        "x_test.shape, y_test.shape"
      ],
      "execution_count": 37,
      "outputs": [
        {
          "output_type": "execute_result",
          "data": {
            "text/plain": [
              "((515, 5), (515,))"
            ]
          },
          "metadata": {
            "tags": []
          },
          "execution_count": 37
        }
      ]
    },
    {
      "cell_type": "markdown",
      "metadata": {
        "id": "R6oXe_hqsUGw"
      },
      "source": [
        "Create the Model"
      ]
    },
    {
      "cell_type": "code",
      "metadata": {
        "id": "tvIImEXAsQeA"
      },
      "source": [
        "from sklearn.linear_model import LogisticRegression"
      ],
      "execution_count": 38,
      "outputs": []
    },
    {
      "cell_type": "code",
      "metadata": {
        "id": "gnUgHaeIsNHY"
      },
      "source": [
        "clf = LogisticRegression()"
      ],
      "execution_count": 39,
      "outputs": []
    },
    {
      "cell_type": "code",
      "metadata": {
        "colab": {
          "base_uri": "https://localhost:8080/"
        },
        "id": "gjJaSaWrsbOb",
        "outputId": "04c4429b-cf41-4ffa-c557-15dce2dd7f3b"
      },
      "source": [
        "clf.fit(x_train, y_train)"
      ],
      "execution_count": 40,
      "outputs": [
        {
          "output_type": "execute_result",
          "data": {
            "text/plain": [
              "LogisticRegression(C=1.0, class_weight=None, dual=False, fit_intercept=True,\n",
              "                   intercept_scaling=1, l1_ratio=None, max_iter=100,\n",
              "                   multi_class='auto', n_jobs=None, penalty='l2',\n",
              "                   random_state=None, solver='lbfgs', tol=0.0001, verbose=0,\n",
              "                   warm_start=False)"
            ]
          },
          "metadata": {
            "tags": []
          },
          "execution_count": 40
        }
      ]
    },
    {
      "cell_type": "code",
      "metadata": {
        "id": "BXjM6mFKsfDi"
      },
      "source": [
        "y_pred = clf.predict(x_test)"
      ],
      "execution_count": 41,
      "outputs": []
    },
    {
      "cell_type": "code",
      "metadata": {
        "colab": {
          "base_uri": "https://localhost:8080/"
        },
        "id": "BQ4wGbtWt7Um",
        "outputId": "8fe9ccbb-3c7d-4bb9-cd9a-13aeef69b4ca"
      },
      "source": [
        "clf.score(x_train, y_train)"
      ],
      "execution_count": 42,
      "outputs": [
        {
          "output_type": "execute_result",
          "data": {
            "text/plain": [
              "0.5160194174757281"
            ]
          },
          "metadata": {
            "tags": []
          },
          "execution_count": 42
        }
      ]
    },
    {
      "cell_type": "code",
      "metadata": {
        "colab": {
          "base_uri": "https://localhost:8080/"
        },
        "id": "9rBgTscqt-L8",
        "outputId": "3844e37b-f886-4d8d-e7fc-26396c8bfd38"
      },
      "source": [
        "clf.score(x_test, y_test)"
      ],
      "execution_count": 43,
      "outputs": [
        {
          "output_type": "execute_result",
          "data": {
            "text/plain": [
              "0.5281553398058253"
            ]
          },
          "metadata": {
            "tags": []
          },
          "execution_count": 43
        }
      ]
    },
    {
      "cell_type": "code",
      "metadata": {
        "id": "y4zg4rfIuA_T"
      },
      "source": [
        "inputFeatures = [102, 1, 22, -1, 1]\n",
        "infProb =clf.predict_proba([inputFeatures])[0][1]"
      ],
      "execution_count": 49,
      "outputs": []
    },
    {
      "cell_type": "code",
      "metadata": {
        "colab": {
          "base_uri": "https://localhost:8080/"
        },
        "id": "rL7UiUFRuNuI",
        "outputId": "c4809f85-b768-464d-922d-9aa5c6af7087"
      },
      "source": [
        "infProb"
      ],
      "execution_count": 50,
      "outputs": [
        {
          "output_type": "execute_result",
          "data": {
            "text/plain": [
              "0.515202929138833"
            ]
          },
          "metadata": {
            "tags": []
          },
          "execution_count": 50
        }
      ]
    },
    {
      "cell_type": "code",
      "metadata": {
        "id": "hS5yX7Fgug6J"
      },
      "source": [
        ""
      ],
      "execution_count": null,
      "outputs": []
    }
  ]
}